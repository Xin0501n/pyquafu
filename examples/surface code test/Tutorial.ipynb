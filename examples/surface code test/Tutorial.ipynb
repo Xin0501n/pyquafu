{
 "cells": [
  {
   "cell_type": "code",
   "execution_count": null,
   "id": "8b6b011b",
   "metadata": {},
   "outputs": [],
   "source": [
    "from surfacecode_lattice import SurfaceCodeVisualizer\n",
    "\n",
    "lattice = SurfaceCodeVisualizer()\n",
    "lattice.load_standard_distance_3()\n",
    "lattice.draw()\n",
    "\n"
   ]
  },
  {
   "cell_type": "code",
   "execution_count": null,
   "id": "b27460e5",
   "metadata": {},
   "outputs": [],
   "source": [
    "from surfacecode_lattice import SurfaceCodeVisualizer\n",
    "\n",
    "lattice = SurfaceCodeVisualizer()\n",
    "\n",
    "# 自定义两个 qubit\n",
    "lattice.add_qubit(1, 1, qtype='data', idx=0)\n",
    "lattice.add_qubit(3, 1, qtype='data', idx=1)\n",
    "\n",
    "# 添加 CNOT 门（t=1）\n",
    "lattice.add_gate('cx', [(1, 1), (3, 1)], time_step=1)\n",
    "# 添加 RX 门 t=2\n",
    "lattice.add_gate('RX', [(1, 1)], time_step=2, angle='π/2')\n",
    "\n",
    "\n",
    "lattice.draw(time_step=2)\n",
    "\n"
   ]
  },
  {
   "cell_type": "code",
   "execution_count": null,
   "id": "39cf0d36",
   "metadata": {},
   "outputs": [],
   "source": [
    "from Surfacecode_builder import SurfaceCodeCircuitBuilder\n",
    "\n",
    "builder = SurfaceCodeCircuitBuilder(\n",
    "    distance=3,\n",
    "    initial_state=\"+\",\n",
    "    rounds=3,\n",
    "    sim_mode=\"full\"  # clifford暂时没有完成\n",
    ")\n",
    "builder.build()\n",
    "syndrome_result, logical_x_result, logical_z_result = builder.run()\n",
    "\n",
    "print(logical_x_result)\n"
   ]
  }
 ],
 "metadata": {
  "kernelspec": {
   "display_name": "Python 3",
   "language": "python",
   "name": "python3"
  },
  "language_info": {
   "codemirror_mode": {
    "name": "ipython",
    "version": 3
   },
   "file_extension": ".py",
   "mimetype": "text/x-python",
   "name": "python",
   "nbconvert_exporter": "python",
   "pygments_lexer": "ipython3",
   "version": "3.10.11"
  }
 },
 "nbformat": 4,
 "nbformat_minor": 5
}
